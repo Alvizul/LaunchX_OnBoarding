{
 "cells": [
  {
   "cell_type": "markdown",
   "metadata": {},
   "source": [
    "# Ejercicio 1"
   ]
  },
  {
   "cell_type": "code",
   "execution_count": 69,
   "metadata": {},
   "outputs": [
    {
     "name": "stdout",
     "output_type": "stream",
     "text": [
      "On average, the Moon moves 4cm away from the Earth every year\n",
      "The highest daylight temperature of the Moon is 127 Celsius.\n"
     ]
    }
   ],
   "source": [
    "text = \"\"\"Interesting facts about the Moon. The Moon is Earth's only satellite. There are several interesting facts about the Moon and how it affects life here on Earth. On average, the Moon moves 4cm away from the Earth every year. This yearly drift is not significant enough to cause immediate effects on Earth. The highest daylight temperature of the Moon is 127 C.\"\"\"\n",
    "split = text.split(\". \")\n",
    "\n",
    "words = [\"average\", \"temperature\", \"distance\"]\n",
    "\n",
    "for line in split:\n",
    "    for word in words:\n",
    "        if word in line:\n",
    "            print(line.replace(' C',' Celsius'))\n",
    "\n",
    "\n"
   ]
  },
  {
   "cell_type": "markdown",
   "metadata": {},
   "source": [
    "# Ejercicio 2"
   ]
  },
  {
   "cell_type": "code",
   "execution_count": 2,
   "metadata": {},
   "outputs": [
    {
     "name": "stdout",
     "output_type": "stream",
     "text": [
      "\n",
      "Facts about Earth's satellite: the Moon\n",
      "-------------------------------------------------------------------------------\n",
      "Planet name: Earth\n",
      "Gravity on Moon: 1.62 m/s²\n",
      "\n",
      "\n",
      "Facts about Jupiter's satellite: Ganymede\n",
      "-------------------------------------------------------------------------------\n",
      "Planet name: Jupiter\n",
      "Gravity on Ganymede: 1.428 m/s²\n",
      "\n"
     ]
    }
   ],
   "source": [
    "# Datos\n",
    "planet = \"Earth\"\n",
    "name = \"Moon\"\n",
    "gravity = 0.00162 #kms\n",
    "title = \"Facts about \" + planet + \"'s satellite: the \" + name\n",
    "\n",
    "template = \"\"\"\n",
    "{title}\n",
    "-------------------------------------------------------------------------------\n",
    "Planet name: {planet}\n",
    "Gravity on {name}: {gravity} m/s²\n",
    "\"\"\"\n",
    "\n",
    "print(template.format(title=title, planet=planet, name=name, gravity=round(gravity*1000,3)))\n",
    "\n",
    "\n",
    "planet = \"Jupiter\"\n",
    "name = \"Ganymede\"\n",
    "gravity = 0.001428 #kms\n",
    "title = \"Facts about \" + planet + \"'s satellite: \" + name\n",
    "\n",
    "print(template.format(title=title, planet=planet, name=name, gravity=gravity*1000))"
   ]
  }
 ],
 "metadata": {
  "interpreter": {
   "hash": "aee8b7b246df8f9039afb4144a1f6fd8d2ca17a180786b69acc140d282b71a49"
  },
  "kernelspec": {
   "display_name": "Python 3.10.2 64-bit",
   "language": "python",
   "name": "python3"
  },
  "language_info": {
   "codemirror_mode": {
    "name": "ipython",
    "version": 3
   },
   "file_extension": ".py",
   "mimetype": "text/x-python",
   "name": "python",
   "nbconvert_exporter": "python",
   "pygments_lexer": "ipython3",
   "version": "3.10.2"
  },
  "orig_nbformat": 4
 },
 "nbformat": 4,
 "nbformat_minor": 2
}
