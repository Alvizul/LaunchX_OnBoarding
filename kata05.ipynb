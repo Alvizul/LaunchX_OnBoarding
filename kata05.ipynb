{
 "cells": [
  {
   "cell_type": "markdown",
   "metadata": {},
   "source": [
    "# Ejercicio 1"
   ]
  },
  {
   "cell_type": "code",
   "execution_count": 17,
   "metadata": {},
   "outputs": [
    {
     "name": "stdout",
     "output_type": "stream",
     "text": [
      "628949330 km\n",
      "390577534 mi\n"
     ]
    }
   ],
   "source": [
    "Tierra = 149597870 #km\n",
    "Jupiter = 778547200 #km\n",
    "\n",
    "calc = Tierra - Jupiter\n",
    "millas = 0.621\n",
    "\n",
    "print(str( abs(calc) ) + ' km')\n",
    "print(str( round(abs(calc*millas)) ) + ' mi')"
   ]
  },
  {
   "cell_type": "markdown",
   "metadata": {},
   "source": [
    "# Ejercicio 2"
   ]
  },
  {
   "cell_type": "code",
   "execution_count": 24,
   "metadata": {},
   "outputs": [
    {
     "name": "stdout",
     "output_type": "stream",
     "text": [
      "628949330 km\n",
      "390577534 mi\n"
     ]
    }
   ],
   "source": [
    "planeta1 = input(\"¿Cuál es la distancia del sol al primer planeta?\")\n",
    "planeta2 = input(\"¿Cuál es la distancia del sol al segundo planeta?\")\n",
    "\n",
    "distancia1 = int(planeta1)\n",
    "distancia2 = int(planeta2)\n",
    "\n",
    "calc = abs((distancia1 - distancia2))\n",
    "\n",
    "print( str(calc) + ' km' )\n",
    "print( str(round(calc*0.621)) + ' mi')"
   ]
  }
 ],
 "metadata": {
  "interpreter": {
   "hash": "aee8b7b246df8f9039afb4144a1f6fd8d2ca17a180786b69acc140d282b71a49"
  },
  "kernelspec": {
   "display_name": "Python 3.10.2 64-bit",
   "language": "python",
   "name": "python3"
  },
  "language_info": {
   "codemirror_mode": {
    "name": "ipython",
    "version": 3
   },
   "file_extension": ".py",
   "mimetype": "text/x-python",
   "name": "python",
   "nbconvert_exporter": "python",
   "pygments_lexer": "ipython3",
   "version": "3.10.2"
  },
  "orig_nbformat": 4
 },
 "nbformat": 4,
 "nbformat_minor": 2
}
