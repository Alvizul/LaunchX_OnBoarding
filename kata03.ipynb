{
 "cells": [
  {
   "cell_type": "markdown",
   "metadata": {},
   "source": [
    "# Problema 1"
   ]
  },
  {
   "cell_type": "code",
   "execution_count": 5,
   "metadata": {},
   "outputs": [
    {
     "name": "stdout",
     "output_type": "stream",
     "text": [
      "¡Advertencia, un asteroide se acerca a alta velocidad!\n"
     ]
    }
   ],
   "source": [
    "velocidad = 49\n",
    "\n",
    "if velocidad > 25:\n",
    "    print('¡Advertencia, un asteroide se acerca a alta velocidad!')\n",
    "else:\n",
    "    print('No hay asteroides cerca.')"
   ]
  },
  {
   "cell_type": "markdown",
   "metadata": {},
   "source": [
    "# Problema 2"
   ]
  },
  {
   "cell_type": "code",
   "execution_count": 6,
   "metadata": {},
   "outputs": [
    {
     "name": "stdout",
     "output_type": "stream",
     "text": [
      "No hay asteroides a la vista.\n"
     ]
    }
   ],
   "source": [
    "velocidad = 19\n",
    "\n",
    "if velocidad > 20:\n",
    "    print('¡Un asteroide puede ser visible en el cielo!')\n",
    "elif velocidad == 20:\n",
    "    print('¡Un asteroide puede ser visible en el cielo!')\n",
    "else:\n",
    "    print('No hay asteroides a la vista.')"
   ]
  },
  {
   "cell_type": "markdown",
   "metadata": {},
   "source": [
    "# Problema 3"
   ]
  },
  {
   "cell_type": "code",
   "execution_count": 65,
   "metadata": {},
   "outputs": [
    {
     "name": "stdout",
     "output_type": "stream",
     "text": [
      "¡Mira arriba, habra un rayo de luz inofensivo!\n"
     ]
    }
   ],
   "source": [
    "size = 20\n",
    "speed = 22\n",
    "\n",
    "if size > 25 and speed > 25:\n",
    "    print('¡Peligro, un asteroide grande y rápido se acerca!')\n",
    "elif size > 25 or speed > 25:\n",
    "    print('¡Advertencia, hay un asteroide peligroso!')\n",
    "elif speed >= 20:\n",
    "    print('¡Mira arriba, habra un rayo de luz inofensivo!')\n",
    "else:\n",
    "    print('Un asteroide se quemará en la atmósfera')"
   ]
  }
 ],
 "metadata": {
  "interpreter": {
   "hash": "aee8b7b246df8f9039afb4144a1f6fd8d2ca17a180786b69acc140d282b71a49"
  },
  "kernelspec": {
   "display_name": "Python 3.10.2 64-bit",
   "language": "python",
   "name": "python3"
  },
  "language_info": {
   "codemirror_mode": {
    "name": "ipython",
    "version": 3
   },
   "file_extension": ".py",
   "mimetype": "text/x-python",
   "name": "python",
   "nbconvert_exporter": "python",
   "pygments_lexer": "ipython3",
   "version": "3.10.2"
  },
  "orig_nbformat": 4
 },
 "nbformat": 4,
 "nbformat_minor": 2
}
