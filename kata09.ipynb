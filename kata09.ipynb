{
 "cells": [
  {
   "cell_type": "markdown",
   "metadata": {},
   "source": [
    "# Ejercicio 1"
   ]
  },
  {
   "cell_type": "code",
   "execution_count": 74,
   "metadata": {},
   "outputs": [
    {
     "name": "stdout",
     "output_type": "stream",
     "text": [
      "Spaceship Fuel Report\n",
      " - Tank001: 80%\n",
      " - Tank002: 25%\n",
      " - Tank003: 100%\n",
      " - Total average: 68%\n",
      "\n"
     ]
    }
   ],
   "source": [
    "def report_fuel(tank1, tank2, tank3):\n",
    "    return f\"\"\"Spaceship Fuel Report\n",
    " - Tank001: {tank1}%\n",
    " - Tank002: {tank2}%\n",
    " - Tank003: {tank3}%\n",
    " - Total average: {average({tank1,tank2,tank3})}%\n",
    "\"\"\"\n",
    "\n",
    "def average(values):\n",
    "    total = sum(values)\n",
    "    items = len(values)\n",
    "    return round(total/items)\n",
    "\n",
    "print(report_fuel(80,25,100))\n"
   ]
  },
  {
   "cell_type": "markdown",
   "metadata": {},
   "source": [
    "# Ejercicio 2"
   ]
  },
  {
   "cell_type": "code",
   "execution_count": 71,
   "metadata": {},
   "outputs": [
    {
     "name": "stdout",
     "output_type": "stream",
     "text": [
      "\n",
      "Mission A-001 Report\n",
      " - Destination: Moon\n",
      " - Travel Time: 120 min\n",
      " - External Tank: 6500 gal\n",
      " - Internal Tank: 80000 gal\n",
      " - Total Fuel Left: 86500 gal\n"
     ]
    }
   ],
   "source": [
    "def full_report(destination, *min, **fuel):\n",
    "    full_report = f\"\"\"\n",
    "Mission A-001 Report\n",
    " - Destination: {destination}\n",
    " - Travel Time: {sum(min)} min\n",
    "\"\"\"\n",
    "    for tank, gal in fuel.items():\n",
    "        full_report += f\" - {tank} Tank: {gal} gal\\n\"\n",
    "\n",
    "    full_report += f\" - Total Fuel Left: {sum(fuel.values())} gal\"\n",
    "    return full_report\n",
    "\n",
    "print(full_report('Moon',10,24,86,External=6500,Internal=80000))\n"
   ]
  }
 ],
 "metadata": {
  "interpreter": {
   "hash": "aee8b7b246df8f9039afb4144a1f6fd8d2ca17a180786b69acc140d282b71a49"
  },
  "kernelspec": {
   "display_name": "Python 3.10.2 64-bit",
   "language": "python",
   "name": "python3"
  },
  "language_info": {
   "codemirror_mode": {
    "name": "ipython",
    "version": 3
   },
   "file_extension": ".py",
   "mimetype": "text/x-python",
   "name": "python",
   "nbconvert_exporter": "python",
   "pygments_lexer": "ipython3",
   "version": "3.10.2"
  },
  "orig_nbformat": 4
 },
 "nbformat": 4,
 "nbformat_minor": 2
}
